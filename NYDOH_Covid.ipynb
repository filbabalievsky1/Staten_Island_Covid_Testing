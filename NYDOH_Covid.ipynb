{
 "cells": [
  {
   "cell_type": "markdown",
   "metadata": {},
   "source": [
    "# Setup"
   ]
  },
  {
   "cell_type": "markdown",
   "metadata": {},
   "source": [
    "This file compares the testing rates in the different boroughs of NYC."
   ]
  },
  {
   "cell_type": "code",
   "execution_count": 1,
   "metadata": {},
   "outputs": [],
   "source": [
    "using DataFrames\n",
    "using CSV\n",
    "using DataFramesMeta"
   ]
  },
  {
   "cell_type": "markdown",
   "metadata": {},
   "source": [
    "Data available here--I cloned the github repo and can update this on a daily basis\n",
    "\n",
    "https://github.com/nychealth/coronavirus-data"
   ]
  },
  {
   "cell_type": "markdown",
   "metadata": {},
   "source": [
    "The next analysis is just for my own curiosity. Scroll down to the next header to see the testing results"
   ]
  },
  {
   "cell_type": "code",
   "execution_count": 2,
   "metadata": {},
   "outputs": [
    {
     "name": "stdout",
     "output_type": "stream",
     "text": [
      "thread = 1 warning: only found 3 / 4 columns on data row: 43. Filling remaining columns with `missing`\n"
     ]
    },
    {
     "data": {
      "text/plain": [
       "(43, 6)"
      ]
     },
     "execution_count": 2,
     "metadata": {},
     "output_type": "execute_result"
    }
   ],
   "source": [
    "Data_Main=CSV.read(\"/Users/FilipB/github/coronavirus-data/case-hosp-death.csv\")\n",
    "Data_Main[!,:Log_Hosp_Delta].=0.0\n",
    "Data_Main[!,:Log_Death_Delta].=0.0\n",
    "#Data_Main.Hosp=Int.(Data_Main.HOSPITALIZED_CASE_COUNT)\n",
    "for i in 4:length(Data_Main.Log_Hosp_Delta)-1\n",
    "    Data_Main.Log_Hosp_Delta[i]=log(Data_Main.HOSPITALIZED_CASE_COUNT[i])-log(Data_Main.HOSPITALIZED_CASE_COUNT[i-1])\n",
    "end\n",
    "\n",
    "for i in 14:length(Data_Main.Log_Hosp_Delta)-1\n",
    "    Data_Main.Log_Death_Delta[i]=log(Data_Main.DEATH_COUNT[i])-log(Data_Main.DEATH_COUNT[i-1])\n",
    "end\n",
    "rename!(Data_Main, Dict(:NEW_COVID_CASE_COUNT => \"Count\"))\n",
    "l=size(Data_Main)[1]\n",
    "size(Data_Main)#[5:32,:]"
   ]
  },
  {
   "cell_type": "code",
   "execution_count": 3,
   "metadata": {},
   "outputs": [
    {
     "data": {
      "text/html": [
       "<table class=\"data-frame\"><thead><tr><th></th><th>DATE_OF_INTEREST</th><th>Count</th><th>HOSPITALIZED_CASE_COUNT</th><th>DEATH_COUNT</th><th>Log_Hosp_Delta</th><th>Log_Death_Delta</th></tr><tr><th></th><th>String</th><th>Int64</th><th>Int64⍰</th><th>Int64⍰</th><th>Float64</th><th>Float64</th></tr></thead><tbody><p>21 rows × 6 columns</p><tr><th>1</th><td>3/24/20</td><td>4133</td><td>1045</td><td>90</td><td>0.0724164</td><td>0.117783</td></tr><tr><th>2</th><td>3/25/20</td><td>4495</td><td>1213</td><td>112</td><td>0.14908</td><td>0.218689</td></tr><tr><th>3</th><td>3/26/20</td><td>4638</td><td>1312</td><td>173</td><td>0.0784561</td><td>0.434793</td></tr><tr><th>4</th><td>3/27/20</td><td>4690</td><td>1270</td><td>184</td><td>-0.0325358</td><td>0.0616442</td></tr><tr><th>5</th><td>3/28/20</td><td>3153</td><td>1224</td><td>235</td><td>-0.0368927</td><td>0.24465</td></tr><tr><th>6</th><td>3/29/20</td><td>3196</td><td>1291</td><td>254</td><td>0.0532929</td><td>0.0777488</td></tr><tr><th>7</th><td>3/30/20</td><td>5644</td><td>1563</td><td>277</td><td>0.19119</td><td>0.0866832</td></tr><tr><th>8</th><td>3/31/20</td><td>4931</td><td>1443</td><td>328</td><td>-0.0798828</td><td>0.168996</td></tr><tr><th>9</th><td>4/1/20</td><td>4720</td><td>1436</td><td>365</td><td>-0.00486281</td><td>0.106884</td></tr><tr><th>10</th><td>4/2/20</td><td>5455</td><td>1632</td><td>398</td><td>0.127945</td><td>0.0865547</td></tr><tr><th>11</th><td>4/3/20</td><td>4988</td><td>1633</td><td>418</td><td>0.000612557</td><td>0.0490294</td></tr><tr><th>12</th><td>4/4/20</td><td>3608</td><td>1355</td><td>417</td><td>-0.186617</td><td>-0.00239521</td></tr><tr><th>13</th><td>4/5/20</td><td>3425</td><td>1335</td><td>468</td><td>-0.0148702</td><td>0.115382</td></tr><tr><th>14</th><td>4/6/20</td><td>5931</td><td>1610</td><td>455</td><td>0.187303</td><td>-0.0281709</td></tr><tr><th>15</th><td>4/7/20</td><td>5388</td><td>1369</td><td>476</td><td>-0.162154</td><td>0.0451204</td></tr><tr><th>16</th><td>4/8/20</td><td>4549</td><td>1232</td><td>396</td><td>-0.105442</td><td>-0.184004</td></tr><tr><th>17</th><td>4/9/20</td><td>3332</td><td>835</td><td>340</td><td>-0.388962</td><td>-0.152469</td></tr><tr><th>18</th><td>4/10/20</td><td>2671</td><td>611</td><td>295</td><td>-0.312335</td><td>-0.14197</td></tr><tr><th>19</th><td>4/11/20</td><td>1372</td><td>149</td><td>191</td><td>-1.41115</td><td>-0.434702</td></tr><tr><th>20</th><td>4/12/20</td><td>501</td><td>5</td><td>29</td><td>-3.39451</td><td>-1.88498</td></tr><tr><th>21</th><td>4/13/20</td><td>28</td><td>missing</td><td>missing</td><td>0.0</td><td>0.0</td></tr></tbody></table>"
      ],
      "text/latex": [
       "\\begin{tabular}{r|cccccc}\n",
       "\t& DATE\\_OF\\_INTEREST & Count & HOSPITALIZED\\_CASE\\_COUNT & DEATH\\_COUNT & Log\\_Hosp\\_Delta & Log\\_Death\\_Delta\\\\\n",
       "\t\\hline\n",
       "\t& String & Int64 & Int64⍰ & Int64⍰ & Float64 & Float64\\\\\n",
       "\t\\hline\n",
       "\t1 & 3/24/20 & 4133 & 1045 & 90 & 0.0724164 & 0.117783 \\\\\n",
       "\t2 & 3/25/20 & 4495 & 1213 & 112 & 0.14908 & 0.218689 \\\\\n",
       "\t3 & 3/26/20 & 4638 & 1312 & 173 & 0.0784561 & 0.434793 \\\\\n",
       "\t4 & 3/27/20 & 4690 & 1270 & 184 & -0.0325358 & 0.0616442 \\\\\n",
       "\t5 & 3/28/20 & 3153 & 1224 & 235 & -0.0368927 & 0.24465 \\\\\n",
       "\t6 & 3/29/20 & 3196 & 1291 & 254 & 0.0532929 & 0.0777488 \\\\\n",
       "\t7 & 3/30/20 & 5644 & 1563 & 277 & 0.19119 & 0.0866832 \\\\\n",
       "\t8 & 3/31/20 & 4931 & 1443 & 328 & -0.0798828 & 0.168996 \\\\\n",
       "\t9 & 4/1/20 & 4720 & 1436 & 365 & -0.00486281 & 0.106884 \\\\\n",
       "\t10 & 4/2/20 & 5455 & 1632 & 398 & 0.127945 & 0.0865547 \\\\\n",
       "\t11 & 4/3/20 & 4988 & 1633 & 418 & 0.000612557 & 0.0490294 \\\\\n",
       "\t12 & 4/4/20 & 3608 & 1355 & 417 & -0.186617 & -0.00239521 \\\\\n",
       "\t13 & 4/5/20 & 3425 & 1335 & 468 & -0.0148702 & 0.115382 \\\\\n",
       "\t14 & 4/6/20 & 5931 & 1610 & 455 & 0.187303 & -0.0281709 \\\\\n",
       "\t15 & 4/7/20 & 5388 & 1369 & 476 & -0.162154 & 0.0451204 \\\\\n",
       "\t16 & 4/8/20 & 4549 & 1232 & 396 & -0.105442 & -0.184004 \\\\\n",
       "\t17 & 4/9/20 & 3332 & 835 & 340 & -0.388962 & -0.152469 \\\\\n",
       "\t18 & 4/10/20 & 2671 & 611 & 295 & -0.312335 & -0.14197 \\\\\n",
       "\t19 & 4/11/20 & 1372 & 149 & 191 & -1.41115 & -0.434702 \\\\\n",
       "\t20 & 4/12/20 & 501 & 5 & 29 & -3.39451 & -1.88498 \\\\\n",
       "\t21 & 4/13/20 & 28 &  &  & 0.0 & 0.0 \\\\\n",
       "\\end{tabular}\n"
      ],
      "text/plain": [
       "21×6 DataFrame. Omitted printing of 2 columns\n",
       "│ Row │ DATE_OF_INTEREST │ Count │ HOSPITALIZED_CASE_COUNT │ DEATH_COUNT │\n",
       "│     │ \u001b[90mString\u001b[39m           │ \u001b[90mInt64\u001b[39m │ \u001b[90mUnion{Missing, Int64}\u001b[39m   │ \u001b[90mInt64⍰\u001b[39m      │\n",
       "├─────┼──────────────────┼───────┼─────────────────────────┼─────────────┤\n",
       "│ 1   │ 3/24/20          │ 4133  │ 1045                    │ 90          │\n",
       "│ 2   │ 3/25/20          │ 4495  │ 1213                    │ 112         │\n",
       "│ 3   │ 3/26/20          │ 4638  │ 1312                    │ 173         │\n",
       "│ 4   │ 3/27/20          │ 4690  │ 1270                    │ 184         │\n",
       "│ 5   │ 3/28/20          │ 3153  │ 1224                    │ 235         │\n",
       "│ 6   │ 3/29/20          │ 3196  │ 1291                    │ 254         │\n",
       "│ 7   │ 3/30/20          │ 5644  │ 1563                    │ 277         │\n",
       "│ 8   │ 3/31/20          │ 4931  │ 1443                    │ 328         │\n",
       "│ 9   │ 4/1/20           │ 4720  │ 1436                    │ 365         │\n",
       "│ 10  │ 4/2/20           │ 5455  │ 1632                    │ 398         │\n",
       "│ 11  │ 4/3/20           │ 4988  │ 1633                    │ 418         │\n",
       "│ 12  │ 4/4/20           │ 3608  │ 1355                    │ 417         │\n",
       "│ 13  │ 4/5/20           │ 3425  │ 1335                    │ 468         │\n",
       "│ 14  │ 4/6/20           │ 5931  │ 1610                    │ 455         │\n",
       "│ 15  │ 4/7/20           │ 5388  │ 1369                    │ 476         │\n",
       "│ 16  │ 4/8/20           │ 4549  │ 1232                    │ 396         │\n",
       "│ 17  │ 4/9/20           │ 3332  │ 835                     │ 340         │\n",
       "│ 18  │ 4/10/20          │ 2671  │ 611                     │ 295         │\n",
       "│ 19  │ 4/11/20          │ 1372  │ 149                     │ 191         │\n",
       "│ 20  │ 4/12/20          │ 501   │ 5                       │ 29          │\n",
       "│ 21  │ 4/13/20          │ 28    │ \u001b[90mmissing\u001b[39m                 │ \u001b[90mmissing\u001b[39m     │"
      ]
     },
     "execution_count": 3,
     "metadata": {},
     "output_type": "execute_result"
    }
   ],
   "source": [
    "Data_Main[l-20:l,:]"
   ]
  },
  {
   "cell_type": "code",
   "execution_count": 4,
   "metadata": {},
   "outputs": [
    {
     "data": {
      "text/plain": [
       "6179"
      ]
     },
     "execution_count": 4,
     "metadata": {},
     "output_type": "execute_result"
    }
   ],
   "source": [
    "dm=dropmissing(Data_Main)\n",
    "sum(dm.DEATH_COUNT)"
   ]
  },
  {
   "cell_type": "code",
   "execution_count": 5,
   "metadata": {},
   "outputs": [
    {
     "data": {
      "text/plain": [
       "43-element CSV.Column{Union{Missing, Int64},Union{Missing, Int64}}:\n",
       "    missing\n",
       "    missing\n",
       "    missing\n",
       "    missing\n",
       "    missing\n",
       "    missing\n",
       "    missing\n",
       "    missing\n",
       "    missing\n",
       "   1       \n",
       "   1       \n",
       "    missing\n",
       "   2       \n",
       "   ⋮       \n",
       " 398       \n",
       " 418       \n",
       " 417       \n",
       " 468       \n",
       " 455       \n",
       " 476       \n",
       " 396       \n",
       " 340       \n",
       " 295       \n",
       " 191       \n",
       "  29       \n",
       "    missing"
      ]
     },
     "execution_count": 5,
     "metadata": {},
     "output_type": "execute_result"
    }
   ],
   "source": [
    "Data_Main.DEATH_COUNT"
   ]
  },
  {
   "cell_type": "markdown",
   "metadata": {},
   "source": [
    "# Percap testing rates"
   ]
  },
  {
   "cell_type": "code",
   "execution_count": 6,
   "metadata": {},
   "outputs": [
    {
     "data": {
      "text/html": [
       "<table class=\"data-frame\"><thead><tr><th></th><th>MODZCTA</th><th>Positive</th><th>Total</th><th>zcta_cum.perc_pos</th></tr><tr><th></th><th>String</th><th>Int64</th><th>Int64</th><th>Float64</th></tr></thead><tbody><p>178 rows × 4 columns</p><tr><th>1</th><td>NA</td><td>1851</td><td>2017</td><td>91.77</td></tr><tr><th>2</th><td>10001</td><td>221</td><td>462</td><td>47.84</td></tr><tr><th>3</th><td>10002</td><td>554</td><td>1045</td><td>53.01</td></tr><tr><th>4</th><td>10003</td><td>285</td><td>678</td><td>42.04</td></tr><tr><th>5</th><td>10004</td><td>23</td><td>59</td><td>38.98</td></tr><tr><th>6</th><td>10005</td><td>39</td><td>117</td><td>33.33</td></tr><tr><th>7</th><td>10006</td><td>11</td><td>44</td><td>25.0</td></tr><tr><th>8</th><td>10007</td><td>34</td><td>109</td><td>31.19</td></tr><tr><th>9</th><td>10009</td><td>389</td><td>879</td><td>44.25</td></tr><tr><th>10</th><td>10010</td><td>169</td><td>472</td><td>35.81</td></tr><tr><th>11</th><td>10011</td><td>359</td><td>742</td><td>48.38</td></tr><tr><th>12</th><td>10012</td><td>99</td><td>287</td><td>34.49</td></tr><tr><th>13</th><td>10013</td><td>162</td><td>365</td><td>44.38</td></tr><tr><th>14</th><td>10014</td><td>213</td><td>463</td><td>46.0</td></tr><tr><th>15</th><td>10016</td><td>442</td><td>1008</td><td>43.85</td></tr><tr><th>16</th><td>10017</td><td>92</td><td>268</td><td>34.33</td></tr><tr><th>17</th><td>10018</td><td>157</td><td>333</td><td>47.15</td></tr><tr><th>18</th><td>10019</td><td>339</td><td>763</td><td>44.43</td></tr><tr><th>19</th><td>10021</td><td>389</td><td>977</td><td>39.82</td></tr><tr><th>20</th><td>10022</td><td>222</td><td>567</td><td>39.15</td></tr><tr><th>21</th><td>10023</td><td>350</td><td>871</td><td>40.18</td></tr><tr><th>22</th><td>10024</td><td>386</td><td>1005</td><td>38.41</td></tr><tr><th>23</th><td>10025</td><td>652</td><td>1485</td><td>43.91</td></tr><tr><th>24</th><td>10026</td><td>314</td><td>618</td><td>50.81</td></tr><tr><th>25</th><td>10027</td><td>487</td><td>929</td><td>52.42</td></tr><tr><th>26</th><td>10028</td><td>326</td><td>822</td><td>39.66</td></tr><tr><th>27</th><td>10029</td><td>853</td><td>1593</td><td>53.55</td></tr><tr><th>28</th><td>10030</td><td>280</td><td>455</td><td>61.54</td></tr><tr><th>29</th><td>10031</td><td>635</td><td>967</td><td>65.67</td></tr><tr><th>30</th><td>10032</td><td>751</td><td>1229</td><td>61.11</td></tr><tr><th>&vellip;</th><td>&vellip;</td><td>&vellip;</td><td>&vellip;</td><td>&vellip;</td></tr></tbody></table>"
      ],
      "text/latex": [
       "\\begin{tabular}{r|cccc}\n",
       "\t& MODZCTA & Positive & Total & zcta\\_cum.perc\\_pos\\\\\n",
       "\t\\hline\n",
       "\t& String & Int64 & Int64 & Float64\\\\\n",
       "\t\\hline\n",
       "\t1 & NA & 1851 & 2017 & 91.77 \\\\\n",
       "\t2 & 10001 & 221 & 462 & 47.84 \\\\\n",
       "\t3 & 10002 & 554 & 1045 & 53.01 \\\\\n",
       "\t4 & 10003 & 285 & 678 & 42.04 \\\\\n",
       "\t5 & 10004 & 23 & 59 & 38.98 \\\\\n",
       "\t6 & 10005 & 39 & 117 & 33.33 \\\\\n",
       "\t7 & 10006 & 11 & 44 & 25.0 \\\\\n",
       "\t8 & 10007 & 34 & 109 & 31.19 \\\\\n",
       "\t9 & 10009 & 389 & 879 & 44.25 \\\\\n",
       "\t10 & 10010 & 169 & 472 & 35.81 \\\\\n",
       "\t11 & 10011 & 359 & 742 & 48.38 \\\\\n",
       "\t12 & 10012 & 99 & 287 & 34.49 \\\\\n",
       "\t13 & 10013 & 162 & 365 & 44.38 \\\\\n",
       "\t14 & 10014 & 213 & 463 & 46.0 \\\\\n",
       "\t15 & 10016 & 442 & 1008 & 43.85 \\\\\n",
       "\t16 & 10017 & 92 & 268 & 34.33 \\\\\n",
       "\t17 & 10018 & 157 & 333 & 47.15 \\\\\n",
       "\t18 & 10019 & 339 & 763 & 44.43 \\\\\n",
       "\t19 & 10021 & 389 & 977 & 39.82 \\\\\n",
       "\t20 & 10022 & 222 & 567 & 39.15 \\\\\n",
       "\t21 & 10023 & 350 & 871 & 40.18 \\\\\n",
       "\t22 & 10024 & 386 & 1005 & 38.41 \\\\\n",
       "\t23 & 10025 & 652 & 1485 & 43.91 \\\\\n",
       "\t24 & 10026 & 314 & 618 & 50.81 \\\\\n",
       "\t25 & 10027 & 487 & 929 & 52.42 \\\\\n",
       "\t26 & 10028 & 326 & 822 & 39.66 \\\\\n",
       "\t27 & 10029 & 853 & 1593 & 53.55 \\\\\n",
       "\t28 & 10030 & 280 & 455 & 61.54 \\\\\n",
       "\t29 & 10031 & 635 & 967 & 65.67 \\\\\n",
       "\t30 & 10032 & 751 & 1229 & 61.11 \\\\\n",
       "\t$\\dots$ & $\\dots$ & $\\dots$ & $\\dots$ & $\\dots$ \\\\\n",
       "\\end{tabular}\n"
      ],
      "text/plain": [
       "178×4 DataFrame\n",
       "│ Row │ MODZCTA │ Positive │ Total │ zcta_cum.perc_pos │\n",
       "│     │ \u001b[90mString\u001b[39m  │ \u001b[90mInt64\u001b[39m    │ \u001b[90mInt64\u001b[39m │ \u001b[90mFloat64\u001b[39m           │\n",
       "├─────┼─────────┼──────────┼───────┼───────────────────┤\n",
       "│ 1   │ NA      │ 1851     │ 2017  │ 91.77             │\n",
       "│ 2   │ 10001   │ 221      │ 462   │ 47.84             │\n",
       "│ 3   │ 10002   │ 554      │ 1045  │ 53.01             │\n",
       "│ 4   │ 10003   │ 285      │ 678   │ 42.04             │\n",
       "│ 5   │ 10004   │ 23       │ 59    │ 38.98             │\n",
       "│ 6   │ 10005   │ 39       │ 117   │ 33.33             │\n",
       "│ 7   │ 10006   │ 11       │ 44    │ 25.0              │\n",
       "│ 8   │ 10007   │ 34       │ 109   │ 31.19             │\n",
       "│ 9   │ 10009   │ 389      │ 879   │ 44.25             │\n",
       "│ 10  │ 10010   │ 169      │ 472   │ 35.81             │\n",
       "⋮\n",
       "│ 168 │ 11429   │ 548      │ 790   │ 69.37             │\n",
       "│ 169 │ 11432   │ 872      │ 1345  │ 64.83             │\n",
       "│ 170 │ 11433   │ 493      │ 750   │ 65.73             │\n",
       "│ 171 │ 11434   │ 1099     │ 1717  │ 64.01             │\n",
       "│ 172 │ 11435   │ 825      │ 1357  │ 60.8              │\n",
       "│ 173 │ 11436   │ 280      │ 429   │ 65.27             │\n",
       "│ 174 │ 11691   │ 1155     │ 1715  │ 67.35             │\n",
       "│ 175 │ 11692   │ 310      │ 493   │ 62.88             │\n",
       "│ 176 │ 11693   │ 205      │ 347   │ 59.08             │\n",
       "│ 177 │ 11694   │ 371      │ 641   │ 57.88             │\n",
       "│ 178 │ 11697   │ 63       │ 132   │ 47.73             │"
      ]
     },
     "execution_count": 6,
     "metadata": {},
     "output_type": "execute_result"
    }
   ],
   "source": [
    "ZB1=CSV.read(\"/Users/FilipB/github/coronavirus-data/tests-by-zcta.csv\")\n"
   ]
  },
  {
   "cell_type": "code",
   "execution_count": 7,
   "metadata": {},
   "outputs": [
    {
     "data": {
      "text/html": [
       "<table class=\"data-frame\"><thead><tr><th></th><th>MODZCTA</th><th>Positive</th><th>Total</th><th>zcta_cum.perc_pos</th><th>Zip</th></tr><tr><th></th><th>String</th><th>Int64</th><th>Int64</th><th>Float64</th><th>Int64</th></tr></thead><tbody><p>177 rows × 5 columns</p><tr><th>1</th><td>10001</td><td>221</td><td>462</td><td>47.84</td><td>10001</td></tr><tr><th>2</th><td>10002</td><td>554</td><td>1045</td><td>53.01</td><td>10002</td></tr><tr><th>3</th><td>10003</td><td>285</td><td>678</td><td>42.04</td><td>10003</td></tr><tr><th>4</th><td>10004</td><td>23</td><td>59</td><td>38.98</td><td>10004</td></tr><tr><th>5</th><td>10005</td><td>39</td><td>117</td><td>33.33</td><td>10005</td></tr><tr><th>6</th><td>10006</td><td>11</td><td>44</td><td>25.0</td><td>10006</td></tr><tr><th>7</th><td>10007</td><td>34</td><td>109</td><td>31.19</td><td>10007</td></tr><tr><th>8</th><td>10009</td><td>389</td><td>879</td><td>44.25</td><td>10009</td></tr><tr><th>9</th><td>10010</td><td>169</td><td>472</td><td>35.81</td><td>10010</td></tr><tr><th>10</th><td>10011</td><td>359</td><td>742</td><td>48.38</td><td>10011</td></tr><tr><th>11</th><td>10012</td><td>99</td><td>287</td><td>34.49</td><td>10012</td></tr><tr><th>12</th><td>10013</td><td>162</td><td>365</td><td>44.38</td><td>10013</td></tr><tr><th>13</th><td>10014</td><td>213</td><td>463</td><td>46.0</td><td>10014</td></tr><tr><th>14</th><td>10016</td><td>442</td><td>1008</td><td>43.85</td><td>10016</td></tr><tr><th>15</th><td>10017</td><td>92</td><td>268</td><td>34.33</td><td>10017</td></tr><tr><th>16</th><td>10018</td><td>157</td><td>333</td><td>47.15</td><td>10018</td></tr><tr><th>17</th><td>10019</td><td>339</td><td>763</td><td>44.43</td><td>10019</td></tr><tr><th>18</th><td>10021</td><td>389</td><td>977</td><td>39.82</td><td>10021</td></tr><tr><th>19</th><td>10022</td><td>222</td><td>567</td><td>39.15</td><td>10022</td></tr><tr><th>20</th><td>10023</td><td>350</td><td>871</td><td>40.18</td><td>10023</td></tr><tr><th>21</th><td>10024</td><td>386</td><td>1005</td><td>38.41</td><td>10024</td></tr><tr><th>22</th><td>10025</td><td>652</td><td>1485</td><td>43.91</td><td>10025</td></tr><tr><th>23</th><td>10026</td><td>314</td><td>618</td><td>50.81</td><td>10026</td></tr><tr><th>24</th><td>10027</td><td>487</td><td>929</td><td>52.42</td><td>10027</td></tr><tr><th>25</th><td>10028</td><td>326</td><td>822</td><td>39.66</td><td>10028</td></tr><tr><th>26</th><td>10029</td><td>853</td><td>1593</td><td>53.55</td><td>10029</td></tr><tr><th>27</th><td>10030</td><td>280</td><td>455</td><td>61.54</td><td>10030</td></tr><tr><th>28</th><td>10031</td><td>635</td><td>967</td><td>65.67</td><td>10031</td></tr><tr><th>29</th><td>10032</td><td>751</td><td>1229</td><td>61.11</td><td>10032</td></tr><tr><th>30</th><td>10033</td><td>643</td><td>1040</td><td>61.83</td><td>10033</td></tr><tr><th>&vellip;</th><td>&vellip;</td><td>&vellip;</td><td>&vellip;</td><td>&vellip;</td><td>&vellip;</td></tr></tbody></table>"
      ],
      "text/latex": [
       "\\begin{tabular}{r|ccccc}\n",
       "\t& MODZCTA & Positive & Total & zcta\\_cum.perc\\_pos & Zip\\\\\n",
       "\t\\hline\n",
       "\t& String & Int64 & Int64 & Float64 & Int64\\\\\n",
       "\t\\hline\n",
       "\t1 & 10001 & 221 & 462 & 47.84 & 10001 \\\\\n",
       "\t2 & 10002 & 554 & 1045 & 53.01 & 10002 \\\\\n",
       "\t3 & 10003 & 285 & 678 & 42.04 & 10003 \\\\\n",
       "\t4 & 10004 & 23 & 59 & 38.98 & 10004 \\\\\n",
       "\t5 & 10005 & 39 & 117 & 33.33 & 10005 \\\\\n",
       "\t6 & 10006 & 11 & 44 & 25.0 & 10006 \\\\\n",
       "\t7 & 10007 & 34 & 109 & 31.19 & 10007 \\\\\n",
       "\t8 & 10009 & 389 & 879 & 44.25 & 10009 \\\\\n",
       "\t9 & 10010 & 169 & 472 & 35.81 & 10010 \\\\\n",
       "\t10 & 10011 & 359 & 742 & 48.38 & 10011 \\\\\n",
       "\t11 & 10012 & 99 & 287 & 34.49 & 10012 \\\\\n",
       "\t12 & 10013 & 162 & 365 & 44.38 & 10013 \\\\\n",
       "\t13 & 10014 & 213 & 463 & 46.0 & 10014 \\\\\n",
       "\t14 & 10016 & 442 & 1008 & 43.85 & 10016 \\\\\n",
       "\t15 & 10017 & 92 & 268 & 34.33 & 10017 \\\\\n",
       "\t16 & 10018 & 157 & 333 & 47.15 & 10018 \\\\\n",
       "\t17 & 10019 & 339 & 763 & 44.43 & 10019 \\\\\n",
       "\t18 & 10021 & 389 & 977 & 39.82 & 10021 \\\\\n",
       "\t19 & 10022 & 222 & 567 & 39.15 & 10022 \\\\\n",
       "\t20 & 10023 & 350 & 871 & 40.18 & 10023 \\\\\n",
       "\t21 & 10024 & 386 & 1005 & 38.41 & 10024 \\\\\n",
       "\t22 & 10025 & 652 & 1485 & 43.91 & 10025 \\\\\n",
       "\t23 & 10026 & 314 & 618 & 50.81 & 10026 \\\\\n",
       "\t24 & 10027 & 487 & 929 & 52.42 & 10027 \\\\\n",
       "\t25 & 10028 & 326 & 822 & 39.66 & 10028 \\\\\n",
       "\t26 & 10029 & 853 & 1593 & 53.55 & 10029 \\\\\n",
       "\t27 & 10030 & 280 & 455 & 61.54 & 10030 \\\\\n",
       "\t28 & 10031 & 635 & 967 & 65.67 & 10031 \\\\\n",
       "\t29 & 10032 & 751 & 1229 & 61.11 & 10032 \\\\\n",
       "\t30 & 10033 & 643 & 1040 & 61.83 & 10033 \\\\\n",
       "\t$\\dots$ & $\\dots$ & $\\dots$ & $\\dots$ & $\\dots$ & $\\dots$ \\\\\n",
       "\\end{tabular}\n"
      ],
      "text/plain": [
       "177×5 DataFrame\n",
       "│ Row │ MODZCTA │ Positive │ Total │ zcta_cum.perc_pos │ Zip   │\n",
       "│     │ \u001b[90mString\u001b[39m  │ \u001b[90mInt64\u001b[39m    │ \u001b[90mInt64\u001b[39m │ \u001b[90mFloat64\u001b[39m           │ \u001b[90mInt64\u001b[39m │\n",
       "├─────┼─────────┼──────────┼───────┼───────────────────┼───────┤\n",
       "│ 1   │ 10001   │ 221      │ 462   │ 47.84             │ 10001 │\n",
       "│ 2   │ 10002   │ 554      │ 1045  │ 53.01             │ 10002 │\n",
       "│ 3   │ 10003   │ 285      │ 678   │ 42.04             │ 10003 │\n",
       "│ 4   │ 10004   │ 23       │ 59    │ 38.98             │ 10004 │\n",
       "│ 5   │ 10005   │ 39       │ 117   │ 33.33             │ 10005 │\n",
       "│ 6   │ 10006   │ 11       │ 44    │ 25.0              │ 10006 │\n",
       "│ 7   │ 10007   │ 34       │ 109   │ 31.19             │ 10007 │\n",
       "│ 8   │ 10009   │ 389      │ 879   │ 44.25             │ 10009 │\n",
       "│ 9   │ 10010   │ 169      │ 472   │ 35.81             │ 10010 │\n",
       "│ 10  │ 10011   │ 359      │ 742   │ 48.38             │ 10011 │\n",
       "⋮\n",
       "│ 167 │ 11429   │ 548      │ 790   │ 69.37             │ 11429 │\n",
       "│ 168 │ 11432   │ 872      │ 1345  │ 64.83             │ 11432 │\n",
       "│ 169 │ 11433   │ 493      │ 750   │ 65.73             │ 11433 │\n",
       "│ 170 │ 11434   │ 1099     │ 1717  │ 64.01             │ 11434 │\n",
       "│ 171 │ 11435   │ 825      │ 1357  │ 60.8              │ 11435 │\n",
       "│ 172 │ 11436   │ 280      │ 429   │ 65.27             │ 11436 │\n",
       "│ 173 │ 11691   │ 1155     │ 1715  │ 67.35             │ 11691 │\n",
       "│ 174 │ 11692   │ 310      │ 493   │ 62.88             │ 11692 │\n",
       "│ 175 │ 11693   │ 205      │ 347   │ 59.08             │ 11693 │\n",
       "│ 176 │ 11694   │ 371      │ 641   │ 57.88             │ 11694 │\n",
       "│ 177 │ 11697   │ 63       │ 132   │ 47.73             │ 11697 │"
      ]
     },
     "execution_count": 7,
     "metadata": {},
     "output_type": "execute_result"
    }
   ],
   "source": [
    "ZB1=ZB1[2:178,:]\n",
    "Zip=map(x->parse(Int64,x[:]),ZB1.MODZCTA[1:177])\n",
    "ZB1.Zip=Zip\n",
    "ZB1"
   ]
  },
  {
   "cell_type": "markdown",
   "metadata": {},
   "source": [
    "I get a county-zip crosswalk from this file:"
   ]
  },
  {
   "cell_type": "markdown",
   "metadata": {},
   "source": [
    "https://data.ny.gov/Government-Finance/New-York-State-ZIP-Codes-County-FIPS-Cross-Referen/juva-r6g2"
   ]
  },
  {
   "cell_type": "code",
   "execution_count": 8,
   "metadata": {},
   "outputs": [
    {
     "data": {
      "text/html": [
       "<table class=\"data-frame\"><thead><tr><th></th><th>Boro</th><th>NY</th><th>CC</th><th>CF</th><th>Zip</th><th>FD</th></tr><tr><th></th><th>String</th><th>Int64</th><th>Int64</th><th>Int64</th><th>Int64</th><th>String</th></tr></thead><tbody><p>2,543 rows × 6 columns</p><tr><th>1</th><td>Albany</td><td>36</td><td>1</td><td>36001</td><td>12007</td><td>07/25/2007</td></tr><tr><th>2</th><td>Albany</td><td>36</td><td>1</td><td>36001</td><td>12009</td><td>07/25/2007</td></tr><tr><th>3</th><td>Albany</td><td>36</td><td>1</td><td>36001</td><td>12023</td><td>07/25/2007</td></tr><tr><th>4</th><td>Albany</td><td>36</td><td>1</td><td>36001</td><td>12041</td><td>07/25/2007</td></tr><tr><th>5</th><td>Albany</td><td>36</td><td>1</td><td>36001</td><td>12045</td><td>07/25/2007</td></tr><tr><th>6</th><td>Albany</td><td>36</td><td>1</td><td>36001</td><td>12046</td><td>07/25/2007</td></tr><tr><th>7</th><td>Albany</td><td>36</td><td>1</td><td>36001</td><td>12047</td><td>07/25/2007</td></tr><tr><th>8</th><td>Albany</td><td>36</td><td>1</td><td>36001</td><td>12053</td><td>07/25/2007</td></tr><tr><th>9</th><td>Albany</td><td>36</td><td>1</td><td>36001</td><td>12054</td><td>07/25/2007</td></tr><tr><th>10</th><td>Albany</td><td>36</td><td>1</td><td>36001</td><td>12055</td><td>07/25/2007</td></tr><tr><th>11</th><td>Albany</td><td>36</td><td>1</td><td>36001</td><td>12059</td><td>07/25/2007</td></tr><tr><th>12</th><td>Albany</td><td>36</td><td>1</td><td>36001</td><td>12067</td><td>07/25/2007</td></tr><tr><th>13</th><td>Albany</td><td>36</td><td>1</td><td>36001</td><td>12077</td><td>07/25/2007</td></tr><tr><th>14</th><td>Albany</td><td>36</td><td>1</td><td>36001</td><td>12083</td><td>07/25/2007</td></tr><tr><th>15</th><td>Albany</td><td>36</td><td>1</td><td>36001</td><td>12084</td><td>07/25/2007</td></tr><tr><th>16</th><td>Albany</td><td>36</td><td>1</td><td>36001</td><td>12085</td><td>07/25/2007</td></tr><tr><th>17</th><td>Albany</td><td>36</td><td>1</td><td>36001</td><td>12087</td><td>07/25/2007</td></tr><tr><th>18</th><td>Albany</td><td>36</td><td>1</td><td>36001</td><td>12107</td><td>07/25/2007</td></tr><tr><th>19</th><td>Albany</td><td>36</td><td>1</td><td>36001</td><td>12110</td><td>07/25/2007</td></tr><tr><th>20</th><td>Albany</td><td>36</td><td>1</td><td>36001</td><td>12120</td><td>07/25/2007</td></tr><tr><th>21</th><td>Albany</td><td>36</td><td>1</td><td>36001</td><td>12122</td><td>07/25/2007</td></tr><tr><th>22</th><td>Albany</td><td>36</td><td>1</td><td>36001</td><td>12128</td><td>07/25/2007</td></tr><tr><th>23</th><td>Albany</td><td>36</td><td>1</td><td>36001</td><td>12143</td><td>07/25/2007</td></tr><tr><th>24</th><td>Albany</td><td>36</td><td>1</td><td>36001</td><td>12147</td><td>07/25/2007</td></tr><tr><th>25</th><td>Albany</td><td>36</td><td>1</td><td>36001</td><td>12157</td><td>07/25/2007</td></tr><tr><th>26</th><td>Albany</td><td>36</td><td>1</td><td>36001</td><td>12158</td><td>07/25/2007</td></tr><tr><th>27</th><td>Albany</td><td>36</td><td>1</td><td>36001</td><td>12159</td><td>07/25/2007</td></tr><tr><th>28</th><td>Albany</td><td>36</td><td>1</td><td>36001</td><td>12161</td><td>07/25/2007</td></tr><tr><th>29</th><td>Albany</td><td>36</td><td>1</td><td>36001</td><td>12183</td><td>07/25/2007</td></tr><tr><th>30</th><td>Albany</td><td>36</td><td>1</td><td>36001</td><td>12186</td><td>07/25/2007</td></tr><tr><th>&vellip;</th><td>&vellip;</td><td>&vellip;</td><td>&vellip;</td><td>&vellip;</td><td>&vellip;</td><td>&vellip;</td></tr></tbody></table>"
      ],
      "text/latex": [
       "\\begin{tabular}{r|cccccc}\n",
       "\t& Boro & NY & CC & CF & Zip & FD\\\\\n",
       "\t\\hline\n",
       "\t& String & Int64 & Int64 & Int64 & Int64 & String\\\\\n",
       "\t\\hline\n",
       "\t1 & Albany & 36 & 1 & 36001 & 12007 & 07/25/2007 \\\\\n",
       "\t2 & Albany & 36 & 1 & 36001 & 12009 & 07/25/2007 \\\\\n",
       "\t3 & Albany & 36 & 1 & 36001 & 12023 & 07/25/2007 \\\\\n",
       "\t4 & Albany & 36 & 1 & 36001 & 12041 & 07/25/2007 \\\\\n",
       "\t5 & Albany & 36 & 1 & 36001 & 12045 & 07/25/2007 \\\\\n",
       "\t6 & Albany & 36 & 1 & 36001 & 12046 & 07/25/2007 \\\\\n",
       "\t7 & Albany & 36 & 1 & 36001 & 12047 & 07/25/2007 \\\\\n",
       "\t8 & Albany & 36 & 1 & 36001 & 12053 & 07/25/2007 \\\\\n",
       "\t9 & Albany & 36 & 1 & 36001 & 12054 & 07/25/2007 \\\\\n",
       "\t10 & Albany & 36 & 1 & 36001 & 12055 & 07/25/2007 \\\\\n",
       "\t11 & Albany & 36 & 1 & 36001 & 12059 & 07/25/2007 \\\\\n",
       "\t12 & Albany & 36 & 1 & 36001 & 12067 & 07/25/2007 \\\\\n",
       "\t13 & Albany & 36 & 1 & 36001 & 12077 & 07/25/2007 \\\\\n",
       "\t14 & Albany & 36 & 1 & 36001 & 12083 & 07/25/2007 \\\\\n",
       "\t15 & Albany & 36 & 1 & 36001 & 12084 & 07/25/2007 \\\\\n",
       "\t16 & Albany & 36 & 1 & 36001 & 12085 & 07/25/2007 \\\\\n",
       "\t17 & Albany & 36 & 1 & 36001 & 12087 & 07/25/2007 \\\\\n",
       "\t18 & Albany & 36 & 1 & 36001 & 12107 & 07/25/2007 \\\\\n",
       "\t19 & Albany & 36 & 1 & 36001 & 12110 & 07/25/2007 \\\\\n",
       "\t20 & Albany & 36 & 1 & 36001 & 12120 & 07/25/2007 \\\\\n",
       "\t21 & Albany & 36 & 1 & 36001 & 12122 & 07/25/2007 \\\\\n",
       "\t22 & Albany & 36 & 1 & 36001 & 12128 & 07/25/2007 \\\\\n",
       "\t23 & Albany & 36 & 1 & 36001 & 12143 & 07/25/2007 \\\\\n",
       "\t24 & Albany & 36 & 1 & 36001 & 12147 & 07/25/2007 \\\\\n",
       "\t25 & Albany & 36 & 1 & 36001 & 12157 & 07/25/2007 \\\\\n",
       "\t26 & Albany & 36 & 1 & 36001 & 12158 & 07/25/2007 \\\\\n",
       "\t27 & Albany & 36 & 1 & 36001 & 12159 & 07/25/2007 \\\\\n",
       "\t28 & Albany & 36 & 1 & 36001 & 12161 & 07/25/2007 \\\\\n",
       "\t29 & Albany & 36 & 1 & 36001 & 12183 & 07/25/2007 \\\\\n",
       "\t30 & Albany & 36 & 1 & 36001 & 12186 & 07/25/2007 \\\\\n",
       "\t$\\dots$ & $\\dots$ & $\\dots$ & $\\dots$ & $\\dots$ & $\\dots$ & $\\dots$ \\\\\n",
       "\\end{tabular}\n"
      ],
      "text/plain": [
       "2543×6 DataFrame\n",
       "│ Row  │ Boro   │ NY    │ CC    │ CF    │ Zip   │ FD         │\n",
       "│      │ \u001b[90mString\u001b[39m │ \u001b[90mInt64\u001b[39m │ \u001b[90mInt64\u001b[39m │ \u001b[90mInt64\u001b[39m │ \u001b[90mInt64\u001b[39m │ \u001b[90mString\u001b[39m     │\n",
       "├──────┼────────┼───────┼───────┼───────┼───────┼────────────┤\n",
       "│ 1    │ Albany │ 36    │ 1     │ 36001 │ 12007 │ 07/25/2007 │\n",
       "│ 2    │ Albany │ 36    │ 1     │ 36001 │ 12009 │ 07/25/2007 │\n",
       "│ 3    │ Albany │ 36    │ 1     │ 36001 │ 12023 │ 07/25/2007 │\n",
       "│ 4    │ Albany │ 36    │ 1     │ 36001 │ 12041 │ 07/25/2007 │\n",
       "│ 5    │ Albany │ 36    │ 1     │ 36001 │ 12045 │ 07/25/2007 │\n",
       "│ 6    │ Albany │ 36    │ 1     │ 36001 │ 12046 │ 07/25/2007 │\n",
       "│ 7    │ Albany │ 36    │ 1     │ 36001 │ 12047 │ 07/25/2007 │\n",
       "│ 8    │ Albany │ 36    │ 1     │ 36001 │ 12053 │ 07/25/2007 │\n",
       "│ 9    │ Albany │ 36    │ 1     │ 36001 │ 12054 │ 07/25/2007 │\n",
       "│ 10   │ Albany │ 36    │ 1     │ 36001 │ 12055 │ 07/25/2007 │\n",
       "⋮\n",
       "│ 2533 │ Yates  │ 36    │ 123   │ 36123 │ 14456 │ 07/25/2007 │\n",
       "│ 2534 │ Yates  │ 36    │ 123   │ 36123 │ 14478 │ 07/25/2007 │\n",
       "│ 2535 │ Yates  │ 36    │ 123   │ 36123 │ 14507 │ 07/25/2007 │\n",
       "│ 2536 │ Yates  │ 36    │ 123   │ 36123 │ 14512 │ 07/25/2007 │\n",
       "│ 2537 │ Yates  │ 36    │ 123   │ 36123 │ 14527 │ 07/25/2007 │\n",
       "│ 2538 │ Yates  │ 36    │ 123   │ 36123 │ 14544 │ 07/25/2007 │\n",
       "│ 2539 │ Yates  │ 36    │ 123   │ 36123 │ 14561 │ 07/25/2007 │\n",
       "│ 2540 │ Yates  │ 36    │ 123   │ 36123 │ 14837 │ 07/25/2007 │\n",
       "│ 2541 │ Yates  │ 36    │ 123   │ 36123 │ 14842 │ 07/25/2007 │\n",
       "│ 2542 │ Yates  │ 36    │ 123   │ 36123 │ 14857 │ 07/25/2007 │\n",
       "│ 2543 │ Yates  │ 36    │ 123   │ 36123 │ 14878 │ 07/25/2007 │"
      ]
     },
     "execution_count": 8,
     "metadata": {},
     "output_type": "execute_result"
    }
   ],
   "source": [
    "ZB2=CSV.read(\"New_York_State_ZIP_Codes-County_FIPS_Cross-Reference.csv\")\n",
    "rename!(ZB2,[:Boro,:NY,:CC,:CF,:Zip,:FD])"
   ]
  },
  {
   "cell_type": "code",
   "execution_count": 9,
   "metadata": {},
   "outputs": [
    {
     "data": {
      "text/html": [
       "<table class=\"data-frame\"><thead><tr><th></th><th>MODZCTA</th><th>Positive</th><th>Total</th><th>zcta_cum.perc_pos</th><th>Zip</th><th>Boro</th><th>NY</th><th>CC</th><th>CF</th></tr><tr><th></th><th>String</th><th>Int64</th><th>Int64</th><th>Float64</th><th>Int64</th><th>String</th><th>Int64</th><th>Int64</th><th>Int64</th></tr></thead><tbody><p>182 rows × 10 columns (omitted printing of 1 columns)</p><tr><th>1</th><td>10001</td><td>221</td><td>462</td><td>47.84</td><td>10001</td><td>New York</td><td>36</td><td>61</td><td>36061</td></tr><tr><th>2</th><td>10002</td><td>554</td><td>1045</td><td>53.01</td><td>10002</td><td>New York</td><td>36</td><td>61</td><td>36061</td></tr><tr><th>3</th><td>10003</td><td>285</td><td>678</td><td>42.04</td><td>10003</td><td>New York</td><td>36</td><td>61</td><td>36061</td></tr><tr><th>4</th><td>10004</td><td>23</td><td>59</td><td>38.98</td><td>10004</td><td>New York</td><td>36</td><td>61</td><td>36061</td></tr><tr><th>5</th><td>10005</td><td>39</td><td>117</td><td>33.33</td><td>10005</td><td>New York</td><td>36</td><td>61</td><td>36061</td></tr><tr><th>6</th><td>10006</td><td>11</td><td>44</td><td>25.0</td><td>10006</td><td>New York</td><td>36</td><td>61</td><td>36061</td></tr><tr><th>7</th><td>10007</td><td>34</td><td>109</td><td>31.19</td><td>10007</td><td>New York</td><td>36</td><td>61</td><td>36061</td></tr><tr><th>8</th><td>10009</td><td>389</td><td>879</td><td>44.25</td><td>10009</td><td>New York</td><td>36</td><td>61</td><td>36061</td></tr><tr><th>9</th><td>10010</td><td>169</td><td>472</td><td>35.81</td><td>10010</td><td>New York</td><td>36</td><td>61</td><td>36061</td></tr><tr><th>10</th><td>10011</td><td>359</td><td>742</td><td>48.38</td><td>10011</td><td>New York</td><td>36</td><td>61</td><td>36061</td></tr><tr><th>11</th><td>10012</td><td>99</td><td>287</td><td>34.49</td><td>10012</td><td>New York</td><td>36</td><td>61</td><td>36061</td></tr><tr><th>12</th><td>10013</td><td>162</td><td>365</td><td>44.38</td><td>10013</td><td>New York</td><td>36</td><td>61</td><td>36061</td></tr><tr><th>13</th><td>10014</td><td>213</td><td>463</td><td>46.0</td><td>10014</td><td>New York</td><td>36</td><td>61</td><td>36061</td></tr><tr><th>14</th><td>10016</td><td>442</td><td>1008</td><td>43.85</td><td>10016</td><td>New York</td><td>36</td><td>61</td><td>36061</td></tr><tr><th>15</th><td>10017</td><td>92</td><td>268</td><td>34.33</td><td>10017</td><td>New York</td><td>36</td><td>61</td><td>36061</td></tr><tr><th>16</th><td>10018</td><td>157</td><td>333</td><td>47.15</td><td>10018</td><td>New York</td><td>36</td><td>61</td><td>36061</td></tr><tr><th>17</th><td>10019</td><td>339</td><td>763</td><td>44.43</td><td>10019</td><td>New York</td><td>36</td><td>61</td><td>36061</td></tr><tr><th>18</th><td>10021</td><td>389</td><td>977</td><td>39.82</td><td>10021</td><td>New York</td><td>36</td><td>61</td><td>36061</td></tr><tr><th>19</th><td>10022</td><td>222</td><td>567</td><td>39.15</td><td>10022</td><td>New York</td><td>36</td><td>61</td><td>36061</td></tr><tr><th>20</th><td>10023</td><td>350</td><td>871</td><td>40.18</td><td>10023</td><td>New York</td><td>36</td><td>61</td><td>36061</td></tr><tr><th>21</th><td>10024</td><td>386</td><td>1005</td><td>38.41</td><td>10024</td><td>New York</td><td>36</td><td>61</td><td>36061</td></tr><tr><th>22</th><td>10025</td><td>652</td><td>1485</td><td>43.91</td><td>10025</td><td>New York</td><td>36</td><td>61</td><td>36061</td></tr><tr><th>23</th><td>10026</td><td>314</td><td>618</td><td>50.81</td><td>10026</td><td>New York</td><td>36</td><td>61</td><td>36061</td></tr><tr><th>24</th><td>10027</td><td>487</td><td>929</td><td>52.42</td><td>10027</td><td>New York</td><td>36</td><td>61</td><td>36061</td></tr><tr><th>25</th><td>10028</td><td>326</td><td>822</td><td>39.66</td><td>10028</td><td>New York</td><td>36</td><td>61</td><td>36061</td></tr><tr><th>26</th><td>10029</td><td>853</td><td>1593</td><td>53.55</td><td>10029</td><td>New York</td><td>36</td><td>61</td><td>36061</td></tr><tr><th>27</th><td>10030</td><td>280</td><td>455</td><td>61.54</td><td>10030</td><td>New York</td><td>36</td><td>61</td><td>36061</td></tr><tr><th>28</th><td>10031</td><td>635</td><td>967</td><td>65.67</td><td>10031</td><td>New York</td><td>36</td><td>61</td><td>36061</td></tr><tr><th>29</th><td>10032</td><td>751</td><td>1229</td><td>61.11</td><td>10032</td><td>New York</td><td>36</td><td>61</td><td>36061</td></tr><tr><th>30</th><td>10033</td><td>643</td><td>1040</td><td>61.83</td><td>10033</td><td>New York</td><td>36</td><td>61</td><td>36061</td></tr><tr><th>&vellip;</th><td>&vellip;</td><td>&vellip;</td><td>&vellip;</td><td>&vellip;</td><td>&vellip;</td><td>&vellip;</td><td>&vellip;</td><td>&vellip;</td><td>&vellip;</td></tr></tbody></table>"
      ],
      "text/latex": [
       "\\begin{tabular}{r|cccccccccc}\n",
       "\t& MODZCTA & Positive & Total & zcta\\_cum.perc\\_pos & Zip & Boro & NY & CC & CF & \\\\\n",
       "\t\\hline\n",
       "\t& String & Int64 & Int64 & Float64 & Int64 & String & Int64 & Int64 & Int64 & \\\\\n",
       "\t\\hline\n",
       "\t1 & 10001 & 221 & 462 & 47.84 & 10001 & New York & 36 & 61 & 36061 & $\\dots$ \\\\\n",
       "\t2 & 10002 & 554 & 1045 & 53.01 & 10002 & New York & 36 & 61 & 36061 & $\\dots$ \\\\\n",
       "\t3 & 10003 & 285 & 678 & 42.04 & 10003 & New York & 36 & 61 & 36061 & $\\dots$ \\\\\n",
       "\t4 & 10004 & 23 & 59 & 38.98 & 10004 & New York & 36 & 61 & 36061 & $\\dots$ \\\\\n",
       "\t5 & 10005 & 39 & 117 & 33.33 & 10005 & New York & 36 & 61 & 36061 & $\\dots$ \\\\\n",
       "\t6 & 10006 & 11 & 44 & 25.0 & 10006 & New York & 36 & 61 & 36061 & $\\dots$ \\\\\n",
       "\t7 & 10007 & 34 & 109 & 31.19 & 10007 & New York & 36 & 61 & 36061 & $\\dots$ \\\\\n",
       "\t8 & 10009 & 389 & 879 & 44.25 & 10009 & New York & 36 & 61 & 36061 & $\\dots$ \\\\\n",
       "\t9 & 10010 & 169 & 472 & 35.81 & 10010 & New York & 36 & 61 & 36061 & $\\dots$ \\\\\n",
       "\t10 & 10011 & 359 & 742 & 48.38 & 10011 & New York & 36 & 61 & 36061 & $\\dots$ \\\\\n",
       "\t11 & 10012 & 99 & 287 & 34.49 & 10012 & New York & 36 & 61 & 36061 & $\\dots$ \\\\\n",
       "\t12 & 10013 & 162 & 365 & 44.38 & 10013 & New York & 36 & 61 & 36061 & $\\dots$ \\\\\n",
       "\t13 & 10014 & 213 & 463 & 46.0 & 10014 & New York & 36 & 61 & 36061 & $\\dots$ \\\\\n",
       "\t14 & 10016 & 442 & 1008 & 43.85 & 10016 & New York & 36 & 61 & 36061 & $\\dots$ \\\\\n",
       "\t15 & 10017 & 92 & 268 & 34.33 & 10017 & New York & 36 & 61 & 36061 & $\\dots$ \\\\\n",
       "\t16 & 10018 & 157 & 333 & 47.15 & 10018 & New York & 36 & 61 & 36061 & $\\dots$ \\\\\n",
       "\t17 & 10019 & 339 & 763 & 44.43 & 10019 & New York & 36 & 61 & 36061 & $\\dots$ \\\\\n",
       "\t18 & 10021 & 389 & 977 & 39.82 & 10021 & New York & 36 & 61 & 36061 & $\\dots$ \\\\\n",
       "\t19 & 10022 & 222 & 567 & 39.15 & 10022 & New York & 36 & 61 & 36061 & $\\dots$ \\\\\n",
       "\t20 & 10023 & 350 & 871 & 40.18 & 10023 & New York & 36 & 61 & 36061 & $\\dots$ \\\\\n",
       "\t21 & 10024 & 386 & 1005 & 38.41 & 10024 & New York & 36 & 61 & 36061 & $\\dots$ \\\\\n",
       "\t22 & 10025 & 652 & 1485 & 43.91 & 10025 & New York & 36 & 61 & 36061 & $\\dots$ \\\\\n",
       "\t23 & 10026 & 314 & 618 & 50.81 & 10026 & New York & 36 & 61 & 36061 & $\\dots$ \\\\\n",
       "\t24 & 10027 & 487 & 929 & 52.42 & 10027 & New York & 36 & 61 & 36061 & $\\dots$ \\\\\n",
       "\t25 & 10028 & 326 & 822 & 39.66 & 10028 & New York & 36 & 61 & 36061 & $\\dots$ \\\\\n",
       "\t26 & 10029 & 853 & 1593 & 53.55 & 10029 & New York & 36 & 61 & 36061 & $\\dots$ \\\\\n",
       "\t27 & 10030 & 280 & 455 & 61.54 & 10030 & New York & 36 & 61 & 36061 & $\\dots$ \\\\\n",
       "\t28 & 10031 & 635 & 967 & 65.67 & 10031 & New York & 36 & 61 & 36061 & $\\dots$ \\\\\n",
       "\t29 & 10032 & 751 & 1229 & 61.11 & 10032 & New York & 36 & 61 & 36061 & $\\dots$ \\\\\n",
       "\t30 & 10033 & 643 & 1040 & 61.83 & 10033 & New York & 36 & 61 & 36061 & $\\dots$ \\\\\n",
       "\t$\\dots$ & $\\dots$ & $\\dots$ & $\\dots$ & $\\dots$ & $\\dots$ & $\\dots$ & $\\dots$ & $\\dots$ & $\\dots$ &  \\\\\n",
       "\\end{tabular}\n"
      ],
      "text/plain": [
       "182×10 DataFrame. Omitted printing of 4 columns\n",
       "│ Row │ MODZCTA │ Positive │ Total │ zcta_cum.perc_pos │ Zip   │ Boro     │\n",
       "│     │ \u001b[90mString\u001b[39m  │ \u001b[90mInt64\u001b[39m    │ \u001b[90mInt64\u001b[39m │ \u001b[90mFloat64\u001b[39m           │ \u001b[90mInt64\u001b[39m │ \u001b[90mString\u001b[39m   │\n",
       "├─────┼─────────┼──────────┼───────┼───────────────────┼───────┼──────────┤\n",
       "│ 1   │ 10001   │ 221      │ 462   │ 47.84             │ 10001 │ New York │\n",
       "│ 2   │ 10002   │ 554      │ 1045  │ 53.01             │ 10002 │ New York │\n",
       "│ 3   │ 10003   │ 285      │ 678   │ 42.04             │ 10003 │ New York │\n",
       "│ 4   │ 10004   │ 23       │ 59    │ 38.98             │ 10004 │ New York │\n",
       "│ 5   │ 10005   │ 39       │ 117   │ 33.33             │ 10005 │ New York │\n",
       "│ 6   │ 10006   │ 11       │ 44    │ 25.0              │ 10006 │ New York │\n",
       "│ 7   │ 10007   │ 34       │ 109   │ 31.19             │ 10007 │ New York │\n",
       "│ 8   │ 10009   │ 389      │ 879   │ 44.25             │ 10009 │ New York │\n",
       "│ 9   │ 10010   │ 169      │ 472   │ 35.81             │ 10010 │ New York │\n",
       "│ 10  │ 10011   │ 359      │ 742   │ 48.38             │ 10011 │ New York │\n",
       "⋮\n",
       "│ 172 │ 11432   │ 872      │ 1345  │ 64.83             │ 11432 │ Queens   │\n",
       "│ 173 │ 11433   │ 493      │ 750   │ 65.73             │ 11433 │ Queens   │\n",
       "│ 174 │ 11434   │ 1099     │ 1717  │ 64.01             │ 11434 │ Queens   │\n",
       "│ 175 │ 11435   │ 825      │ 1357  │ 60.8              │ 11435 │ Queens   │\n",
       "│ 176 │ 11436   │ 280      │ 429   │ 65.27             │ 11436 │ Queens   │\n",
       "│ 177 │ 11691   │ 1155     │ 1715  │ 67.35             │ 11691 │ Queens   │\n",
       "│ 178 │ 11692   │ 310      │ 493   │ 62.88             │ 11692 │ Queens   │\n",
       "│ 179 │ 11693   │ 205      │ 347   │ 59.08             │ 11693 │ Kings    │\n",
       "│ 180 │ 11693   │ 205      │ 347   │ 59.08             │ 11693 │ Queens   │\n",
       "│ 181 │ 11694   │ 371      │ 641   │ 57.88             │ 11694 │ Queens   │\n",
       "│ 182 │ 11697   │ 63       │ 132   │ 47.73             │ 11697 │ Queens   │"
      ]
     },
     "execution_count": 9,
     "metadata": {},
     "output_type": "execute_result"
    }
   ],
   "source": [
    "ZB3=join(ZB1, ZB2, on=:Zip, kind=:inner)\n"
   ]
  },
  {
   "cell_type": "code",
   "execution_count": 10,
   "metadata": {},
   "outputs": [
    {
     "data": {
      "text/html": [
       "<table class=\"data-frame\"><thead><tr><th></th><th>Boro</th><th>Positive</th><th>Total</th></tr><tr><th></th><th>String</th><th>Int64</th><th>Int64</th></tr></thead><tbody><p>6 rows × 3 columns</p><tr><th>1</th><td>New York</td><td>14488</td><td>30109</td></tr><tr><th>2</th><td>Richmond</td><td>8212</td><td>17050</td></tr><tr><th>3</th><td>Bronx</td><td>22861</td><td>38780</td></tr><tr><th>4</th><td>Westchester</td><td>266</td><td>491</td></tr><tr><th>5</th><td>Queens</td><td>33530</td><td>53242</td></tr><tr><th>6</th><td>Kings</td><td>28058</td><td>46473</td></tr></tbody></table>"
      ],
      "text/latex": [
       "\\begin{tabular}{r|ccc}\n",
       "\t& Boro & Positive & Total\\\\\n",
       "\t\\hline\n",
       "\t& String & Int64 & Int64\\\\\n",
       "\t\\hline\n",
       "\t1 & New York & 14488 & 30109 \\\\\n",
       "\t2 & Richmond & 8212 & 17050 \\\\\n",
       "\t3 & Bronx & 22861 & 38780 \\\\\n",
       "\t4 & Westchester & 266 & 491 \\\\\n",
       "\t5 & Queens & 33530 & 53242 \\\\\n",
       "\t6 & Kings & 28058 & 46473 \\\\\n",
       "\\end{tabular}\n"
      ],
      "text/plain": [
       "6×3 DataFrame\n",
       "│ Row │ Boro        │ Positive │ Total │\n",
       "│     │ \u001b[90mString\u001b[39m      │ \u001b[90mInt64\u001b[39m    │ \u001b[90mInt64\u001b[39m │\n",
       "├─────┼─────────────┼──────────┼───────┤\n",
       "│ 1   │ New York    │ 14488    │ 30109 │\n",
       "│ 2   │ Richmond    │ 8212     │ 17050 │\n",
       "│ 3   │ Bronx       │ 22861    │ 38780 │\n",
       "│ 4   │ Westchester │ 266      │ 491   │\n",
       "│ 5   │ Queens      │ 33530    │ 53242 │\n",
       "│ 6   │ Kings       │ 28058    │ 46473 │"
      ]
     },
     "execution_count": 10,
     "metadata": {},
     "output_type": "execute_result"
    }
   ],
   "source": [
    "P1=by(ZB3, :Boro, :Positive  => sum, :Total=>sum)\n",
    "rename!(P1,[:Boro,:Positive,:Total])"
   ]
  },
  {
   "cell_type": "markdown",
   "metadata": {},
   "source": [
    "Why is Westchester showing up???"
   ]
  },
  {
   "cell_type": "code",
   "execution_count": 11,
   "metadata": {},
   "outputs": [
    {
     "data": {
      "text/html": [
       "<table class=\"data-frame\"><thead><tr><th></th><th>MODZCTA</th><th>Positive</th><th>Total</th><th>zcta_cum.perc_pos</th><th>Zip</th><th>Boro</th><th>NY</th><th>CC</th><th>CF</th></tr><tr><th></th><th>String</th><th>Int64</th><th>Int64</th><th>Float64</th><th>Int64</th><th>String</th><th>Int64</th><th>Int64</th><th>Int64</th></tr></thead><tbody><p>1 rows × 10 columns (omitted printing of 1 columns)</p><tr><th>1</th><td>10470</td><td>266</td><td>491</td><td>54.18</td><td>10470</td><td>Westchester</td><td>36</td><td>119</td><td>36119</td></tr></tbody></table>"
      ],
      "text/latex": [
       "\\begin{tabular}{r|cccccccccc}\n",
       "\t& MODZCTA & Positive & Total & zcta\\_cum.perc\\_pos & Zip & Boro & NY & CC & CF & \\\\\n",
       "\t\\hline\n",
       "\t& String & Int64 & Int64 & Float64 & Int64 & String & Int64 & Int64 & Int64 & \\\\\n",
       "\t\\hline\n",
       "\t1 & 10470 & 266 & 491 & 54.18 & 10470 & Westchester & 36 & 119 & 36119 & $\\dots$ \\\\\n",
       "\\end{tabular}\n"
      ],
      "text/plain": [
       "1×10 DataFrame. Omitted printing of 4 columns\n",
       "│ Row │ MODZCTA │ Positive │ Total │ zcta_cum.perc_pos │ Zip   │ Boro        │\n",
       "│     │ \u001b[90mString\u001b[39m  │ \u001b[90mInt64\u001b[39m    │ \u001b[90mInt64\u001b[39m │ \u001b[90mFloat64\u001b[39m           │ \u001b[90mInt64\u001b[39m │ \u001b[90mString\u001b[39m      │\n",
       "├─────┼─────────┼──────────┼───────┼───────────────────┼───────┼─────────────┤\n",
       "│ 1   │ 10470   │ 266      │ 491   │ 54.18             │ 10470 │ Westchester │"
      ]
     },
     "execution_count": 11,
     "metadata": {},
     "output_type": "execute_result"
    }
   ],
   "source": [
    "SC=join(ZB1, ZB2, on=:Zip, kind=:inner)\n",
    "\n",
    " SC[SC.Boro .== \"Westchester\", :]"
   ]
  },
  {
   "cell_type": "markdown",
   "metadata": {},
   "source": [
    "A google search reveals that this zip code overlaps Westchester and the Bronx. I will lump it in with the figures from the Bronx (recall that the testing data is from NYC not NYS, so I won't be adding any tests from Westchester)"
   ]
  },
  {
   "cell_type": "code",
   "execution_count": 12,
   "metadata": {},
   "outputs": [
    {
     "data": {
      "text/html": [
       "<table class=\"data-frame\"><thead><tr><th></th><th>Boro2</th><th>Positive_sum</th><th>Total_sum</th></tr><tr><th></th><th>String</th><th>Int64</th><th>Int64</th></tr></thead><tbody><p>5 rows × 3 columns</p><tr><th>1</th><td>New York County</td><td>14488</td><td>30109</td></tr><tr><th>2</th><td>Richmond County</td><td>8212</td><td>17050</td></tr><tr><th>3</th><td>Bronx County</td><td>23127</td><td>39271</td></tr><tr><th>4</th><td>Queens County</td><td>33530</td><td>53242</td></tr><tr><th>5</th><td>Kings County</td><td>28058</td><td>46473</td></tr></tbody></table>"
      ],
      "text/latex": [
       "\\begin{tabular}{r|ccc}\n",
       "\t& Boro2 & Positive\\_sum & Total\\_sum\\\\\n",
       "\t\\hline\n",
       "\t& String & Int64 & Int64\\\\\n",
       "\t\\hline\n",
       "\t1 & New York County & 14488 & 30109 \\\\\n",
       "\t2 & Richmond County & 8212 & 17050 \\\\\n",
       "\t3 & Bronx County & 23127 & 39271 \\\\\n",
       "\t4 & Queens County & 33530 & 53242 \\\\\n",
       "\t5 & Kings County & 28058 & 46473 \\\\\n",
       "\\end{tabular}\n"
      ],
      "text/plain": [
       "5×3 DataFrame\n",
       "│ Row │ Boro2           │ Positive_sum │ Total_sum │\n",
       "│     │ \u001b[90mString\u001b[39m          │ \u001b[90mInt64\u001b[39m        │ \u001b[90mInt64\u001b[39m     │\n",
       "├─────┼─────────────────┼──────────────┼───────────┤\n",
       "│ 1   │ New York County │ 14488        │ 30109     │\n",
       "│ 2   │ Richmond County │ 8212         │ 17050     │\n",
       "│ 3   │ Bronx County    │ 23127        │ 39271     │\n",
       "│ 4   │ Queens County   │ 33530        │ 53242     │\n",
       "│ 5   │ Kings County    │ 28058        │ 46473     │"
      ]
     },
     "execution_count": 12,
     "metadata": {},
     "output_type": "execute_result"
    }
   ],
   "source": [
    "P1.Boro2=[\"New York County\",\"Richmond County\",\"Bronx County\",\"Bronx County\",\"Queens County\",\"Kings County\"]\n",
    "P1=by(P1, :Boro2, :Positive  => sum, :Total=>sum)"
   ]
  },
  {
   "cell_type": "markdown",
   "metadata": {},
   "source": [
    "I get population from this link:"
   ]
  },
  {
   "cell_type": "markdown",
   "metadata": {},
   "source": [
    "https://catalog.data.gov/dataset?tags=new-york-state"
   ]
  },
  {
   "cell_type": "code",
   "execution_count": 13,
   "metadata": {},
   "outputs": [
    {
     "data": {
      "text/html": [
       "<table class=\"data-frame\"><thead><tr><th></th><th>Fips</th><th>Boro2</th><th>Year</th><th>P1</th><th>Pop</th></tr><tr><th></th><th>Int64</th><th>String</th><th>Int64</th><th>String</th><th>Int64</th></tr></thead><tbody><p>63 rows × 5 columns</p><tr><th>1</th><td>36000</td><td>New York State</td><td>2019</td><td>Postcensal Population Estimate</td><td>19453561</td></tr><tr><th>2</th><td>36001</td><td>Albany County</td><td>2019</td><td>Postcensal Population Estimate</td><td>305506</td></tr><tr><th>3</th><td>36003</td><td>Allegany County</td><td>2019</td><td>Postcensal Population Estimate</td><td>46091</td></tr><tr><th>4</th><td>36005</td><td>Bronx County</td><td>2019</td><td>Postcensal Population Estimate</td><td>1418207</td></tr><tr><th>5</th><td>36007</td><td>Broome County</td><td>2019</td><td>Postcensal Population Estimate</td><td>190488</td></tr><tr><th>6</th><td>36009</td><td>Cattaraugus County</td><td>2019</td><td>Postcensal Population Estimate</td><td>76117</td></tr><tr><th>7</th><td>36011</td><td>Cayuga County</td><td>2019</td><td>Postcensal Population Estimate</td><td>76576</td></tr><tr><th>8</th><td>36013</td><td>Chautauqua County</td><td>2019</td><td>Postcensal Population Estimate</td><td>126903</td></tr><tr><th>9</th><td>36015</td><td>Chemung County</td><td>2019</td><td>Postcensal Population Estimate</td><td>83456</td></tr><tr><th>10</th><td>36017</td><td>Chenango County</td><td>2019</td><td>Postcensal Population Estimate</td><td>47207</td></tr><tr><th>11</th><td>36019</td><td>Clinton County</td><td>2019</td><td>Postcensal Population Estimate</td><td>80485</td></tr><tr><th>12</th><td>36021</td><td>Columbia County</td><td>2019</td><td>Postcensal Population Estimate</td><td>59461</td></tr><tr><th>13</th><td>36023</td><td>Cortland County</td><td>2019</td><td>Postcensal Population Estimate</td><td>47581</td></tr><tr><th>14</th><td>36025</td><td>Delaware County</td><td>2019</td><td>Postcensal Population Estimate</td><td>44135</td></tr><tr><th>15</th><td>36027</td><td>Dutchess County</td><td>2019</td><td>Postcensal Population Estimate</td><td>294218</td></tr><tr><th>16</th><td>36029</td><td>Erie County</td><td>2019</td><td>Postcensal Population Estimate</td><td>918702</td></tr><tr><th>17</th><td>36031</td><td>Essex County</td><td>2019</td><td>Postcensal Population Estimate</td><td>36885</td></tr><tr><th>18</th><td>36033</td><td>Franklin County</td><td>2019</td><td>Postcensal Population Estimate</td><td>50022</td></tr><tr><th>19</th><td>36035</td><td>Fulton County</td><td>2019</td><td>Postcensal Population Estimate</td><td>53383</td></tr><tr><th>20</th><td>36037</td><td>Genesee County</td><td>2019</td><td>Postcensal Population Estimate</td><td>57280</td></tr><tr><th>21</th><td>36039</td><td>Greene County</td><td>2019</td><td>Postcensal Population Estimate</td><td>47188</td></tr><tr><th>22</th><td>36041</td><td>Hamilton County</td><td>2019</td><td>Postcensal Population Estimate</td><td>4416</td></tr><tr><th>23</th><td>36043</td><td>Herkimer County</td><td>2019</td><td>Postcensal Population Estimate</td><td>61319</td></tr><tr><th>24</th><td>36045</td><td>Jefferson County</td><td>2019</td><td>Postcensal Population Estimate</td><td>109834</td></tr><tr><th>25</th><td>36047</td><td>Kings County</td><td>2019</td><td>Postcensal Population Estimate</td><td>2559903</td></tr><tr><th>26</th><td>36049</td><td>Lewis County</td><td>2019</td><td>Postcensal Population Estimate</td><td>26296</td></tr><tr><th>27</th><td>36051</td><td>Livingston County</td><td>2019</td><td>Postcensal Population Estimate</td><td>62914</td></tr><tr><th>28</th><td>36053</td><td>Madison County</td><td>2019</td><td>Postcensal Population Estimate</td><td>70941</td></tr><tr><th>29</th><td>36055</td><td>Monroe County</td><td>2019</td><td>Postcensal Population Estimate</td><td>741770</td></tr><tr><th>30</th><td>36057</td><td>Montgomery County</td><td>2019</td><td>Postcensal Population Estimate</td><td>49221</td></tr><tr><th>&vellip;</th><td>&vellip;</td><td>&vellip;</td><td>&vellip;</td><td>&vellip;</td><td>&vellip;</td></tr></tbody></table>"
      ],
      "text/latex": [
       "\\begin{tabular}{r|ccccc}\n",
       "\t& Fips & Boro2 & Year & P1 & Pop\\\\\n",
       "\t\\hline\n",
       "\t& Int64 & String & Int64 & String & Int64\\\\\n",
       "\t\\hline\n",
       "\t1 & 36000 & New York State & 2019 & Postcensal Population Estimate & 19453561 \\\\\n",
       "\t2 & 36001 & Albany County & 2019 & Postcensal Population Estimate & 305506 \\\\\n",
       "\t3 & 36003 & Allegany County & 2019 & Postcensal Population Estimate & 46091 \\\\\n",
       "\t4 & 36005 & Bronx County & 2019 & Postcensal Population Estimate & 1418207 \\\\\n",
       "\t5 & 36007 & Broome County & 2019 & Postcensal Population Estimate & 190488 \\\\\n",
       "\t6 & 36009 & Cattaraugus County & 2019 & Postcensal Population Estimate & 76117 \\\\\n",
       "\t7 & 36011 & Cayuga County & 2019 & Postcensal Population Estimate & 76576 \\\\\n",
       "\t8 & 36013 & Chautauqua County & 2019 & Postcensal Population Estimate & 126903 \\\\\n",
       "\t9 & 36015 & Chemung County & 2019 & Postcensal Population Estimate & 83456 \\\\\n",
       "\t10 & 36017 & Chenango County & 2019 & Postcensal Population Estimate & 47207 \\\\\n",
       "\t11 & 36019 & Clinton County & 2019 & Postcensal Population Estimate & 80485 \\\\\n",
       "\t12 & 36021 & Columbia County & 2019 & Postcensal Population Estimate & 59461 \\\\\n",
       "\t13 & 36023 & Cortland County & 2019 & Postcensal Population Estimate & 47581 \\\\\n",
       "\t14 & 36025 & Delaware County & 2019 & Postcensal Population Estimate & 44135 \\\\\n",
       "\t15 & 36027 & Dutchess County & 2019 & Postcensal Population Estimate & 294218 \\\\\n",
       "\t16 & 36029 & Erie County & 2019 & Postcensal Population Estimate & 918702 \\\\\n",
       "\t17 & 36031 & Essex County & 2019 & Postcensal Population Estimate & 36885 \\\\\n",
       "\t18 & 36033 & Franklin County & 2019 & Postcensal Population Estimate & 50022 \\\\\n",
       "\t19 & 36035 & Fulton County & 2019 & Postcensal Population Estimate & 53383 \\\\\n",
       "\t20 & 36037 & Genesee County & 2019 & Postcensal Population Estimate & 57280 \\\\\n",
       "\t21 & 36039 & Greene County & 2019 & Postcensal Population Estimate & 47188 \\\\\n",
       "\t22 & 36041 & Hamilton County & 2019 & Postcensal Population Estimate & 4416 \\\\\n",
       "\t23 & 36043 & Herkimer County & 2019 & Postcensal Population Estimate & 61319 \\\\\n",
       "\t24 & 36045 & Jefferson County & 2019 & Postcensal Population Estimate & 109834 \\\\\n",
       "\t25 & 36047 & Kings County & 2019 & Postcensal Population Estimate & 2559903 \\\\\n",
       "\t26 & 36049 & Lewis County & 2019 & Postcensal Population Estimate & 26296 \\\\\n",
       "\t27 & 36051 & Livingston County & 2019 & Postcensal Population Estimate & 62914 \\\\\n",
       "\t28 & 36053 & Madison County & 2019 & Postcensal Population Estimate & 70941 \\\\\n",
       "\t29 & 36055 & Monroe County & 2019 & Postcensal Population Estimate & 741770 \\\\\n",
       "\t30 & 36057 & Montgomery County & 2019 & Postcensal Population Estimate & 49221 \\\\\n",
       "\t$\\dots$ & $\\dots$ & $\\dots$ & $\\dots$ & $\\dots$ & $\\dots$ \\\\\n",
       "\\end{tabular}\n"
      ],
      "text/plain": [
       "63×5 DataFrame. Omitted printing of 1 columns\n",
       "│ Row │ Fips  │ Boro2              │ Year  │ P1                             │\n",
       "│     │ \u001b[90mInt64\u001b[39m │ \u001b[90mString\u001b[39m             │ \u001b[90mInt64\u001b[39m │ \u001b[90mString\u001b[39m                         │\n",
       "├─────┼───────┼────────────────────┼───────┼────────────────────────────────┤\n",
       "│ 1   │ 36000 │ New York State     │ 2019  │ Postcensal Population Estimate │\n",
       "│ 2   │ 36001 │ Albany County      │ 2019  │ Postcensal Population Estimate │\n",
       "│ 3   │ 36003 │ Allegany County    │ 2019  │ Postcensal Population Estimate │\n",
       "│ 4   │ 36005 │ Bronx County       │ 2019  │ Postcensal Population Estimate │\n",
       "│ 5   │ 36007 │ Broome County      │ 2019  │ Postcensal Population Estimate │\n",
       "│ 6   │ 36009 │ Cattaraugus County │ 2019  │ Postcensal Population Estimate │\n",
       "│ 7   │ 36011 │ Cayuga County      │ 2019  │ Postcensal Population Estimate │\n",
       "│ 8   │ 36013 │ Chautauqua County  │ 2019  │ Postcensal Population Estimate │\n",
       "│ 9   │ 36015 │ Chemung County     │ 2019  │ Postcensal Population Estimate │\n",
       "│ 10  │ 36017 │ Chenango County    │ 2019  │ Postcensal Population Estimate │\n",
       "⋮\n",
       "│ 53  │ 36103 │ Suffolk County     │ 2019  │ Postcensal Population Estimate │\n",
       "│ 54  │ 36105 │ Sullivan County    │ 2019  │ Postcensal Population Estimate │\n",
       "│ 55  │ 36107 │ Tioga County       │ 2019  │ Postcensal Population Estimate │\n",
       "│ 56  │ 36109 │ Tompkins County    │ 2019  │ Postcensal Population Estimate │\n",
       "│ 57  │ 36111 │ Ulster County      │ 2019  │ Postcensal Population Estimate │\n",
       "│ 58  │ 36113 │ Warren County      │ 2019  │ Postcensal Population Estimate │\n",
       "│ 59  │ 36115 │ Washington County  │ 2019  │ Postcensal Population Estimate │\n",
       "│ 60  │ 36117 │ Wayne County       │ 2019  │ Postcensal Population Estimate │\n",
       "│ 61  │ 36119 │ Westchester County │ 2019  │ Postcensal Population Estimate │\n",
       "│ 62  │ 36121 │ Wyoming County     │ 2019  │ Postcensal Population Estimate │\n",
       "│ 63  │ 36123 │ Yates County       │ 2019  │ Postcensal Population Estimate │"
      ]
     },
     "execution_count": 13,
     "metadata": {},
     "output_type": "execute_result"
    }
   ],
   "source": [
    "Pops=CSV.read(\"Annual_Population_Estimates_for_New_York_State_and_Counties__Beginning_1970.csv\")\n",
    "Pops=@where(Pops, :Year .== 2019)\n",
    "\n",
    "rename!(Pops,[:Fips,:Boro2,:Year,:P1,:Pop])"
   ]
  },
  {
   "cell_type": "code",
   "execution_count": 14,
   "metadata": {},
   "outputs": [
    {
     "data": {
      "text/html": [
       "<table class=\"data-frame\"><thead><tr><th></th><th>Borough</th><th>Positive_sum</th><th>Total_sum</th><th>Pop</th></tr><tr><th></th><th>String</th><th>Int64</th><th>Int64</th><th>Int64</th></tr></thead><tbody><p>5 rows × 4 columns</p><tr><th>1</th><td>New York County</td><td>14488</td><td>30109</td><td>1628706</td></tr><tr><th>2</th><td>Richmond County</td><td>8212</td><td>17050</td><td>476143</td></tr><tr><th>3</th><td>Bronx County</td><td>23127</td><td>39271</td><td>1418207</td></tr><tr><th>4</th><td>Queens County</td><td>33530</td><td>53242</td><td>2253858</td></tr><tr><th>5</th><td>Kings County</td><td>28058</td><td>46473</td><td>2559903</td></tr></tbody></table>"
      ],
      "text/latex": [
       "\\begin{tabular}{r|cccc}\n",
       "\t& Borough & Positive\\_sum & Total\\_sum & Pop\\\\\n",
       "\t\\hline\n",
       "\t& String & Int64 & Int64 & Int64\\\\\n",
       "\t\\hline\n",
       "\t1 & New York County & 14488 & 30109 & 1628706 \\\\\n",
       "\t2 & Richmond County & 8212 & 17050 & 476143 \\\\\n",
       "\t3 & Bronx County & 23127 & 39271 & 1418207 \\\\\n",
       "\t4 & Queens County & 33530 & 53242 & 2253858 \\\\\n",
       "\t5 & Kings County & 28058 & 46473 & 2559903 \\\\\n",
       "\\end{tabular}\n"
      ],
      "text/plain": [
       "5×4 DataFrame\n",
       "│ Row │ Borough         │ Positive_sum │ Total_sum │ Pop     │\n",
       "│     │ \u001b[90mString\u001b[39m          │ \u001b[90mInt64\u001b[39m        │ \u001b[90mInt64\u001b[39m     │ \u001b[90mInt64\u001b[39m   │\n",
       "├─────┼─────────────────┼──────────────┼───────────┼─────────┤\n",
       "│ 1   │ New York County │ 14488        │ 30109     │ 1628706 │\n",
       "│ 2   │ Richmond County │ 8212         │ 17050     │ 476143  │\n",
       "│ 3   │ Bronx County    │ 23127        │ 39271     │ 1418207 │\n",
       "│ 4   │ Queens County   │ 33530        │ 53242     │ 2253858 │\n",
       "│ 5   │ Kings County    │ 28058        │ 46473     │ 2559903 │"
      ]
     },
     "execution_count": 14,
     "metadata": {},
     "output_type": "execute_result"
    }
   ],
   "source": [
    "Fin=join(P1, Pops, on=:Boro2, kind=:inner)\n",
    "Fin=@select(Fin, :Boro2, :Positive_sum, :Total_sum, :Pop)\n",
    "\n",
    "rename!(Fin,[:Borough,:Positive_sum, :Total_sum, :Pop])\n"
   ]
  },
  {
   "cell_type": "code",
   "execution_count": 15,
   "metadata": {},
   "outputs": [
    {
     "data": {
      "text/plain": [
       "107415"
      ]
     },
     "execution_count": 15,
     "metadata": {},
     "output_type": "execute_result"
    }
   ],
   "source": [
    "sum(Fin.Positive_sum)"
   ]
  },
  {
   "cell_type": "code",
   "execution_count": 16,
   "metadata": {},
   "outputs": [
    {
     "data": {
      "text/plain": [
       "5-element Array{Float64,1}:\n",
       " 48.11850277325716 \n",
       " 48.16422287390029 \n",
       " 58.89078454839449 \n",
       " 62.976597423087036\n",
       " 60.374841305704386"
      ]
     },
     "execution_count": 16,
     "metadata": {},
     "output_type": "execute_result"
    }
   ],
   "source": [
    "Fin.Pos_Share=Fin.Positive_sum./Fin.Pop.*100\n",
    "\n",
    "Fin.Tested_Share=Fin.Total_sum./Fin.Pop.*100\n",
    "\n",
    "Fin.Pct_Pos=Fin.Positive_sum./Fin.Total_sum.*100"
   ]
  },
  {
   "cell_type": "code",
   "execution_count": 17,
   "metadata": {},
   "outputs": [
    {
     "data": {
      "text/html": [
       "<table class=\"data-frame\"><thead><tr><th></th><th>Borough</th><th>Pos_Share</th><th>Tested_Share</th><th>Pct_Pos</th></tr><tr><th></th><th>String</th><th>Float64</th><th>Float64</th><th>Float64</th></tr></thead><tbody><p>5 rows × 4 columns</p><tr><th>1</th><td>New York County</td><td>0.889541</td><td>1.84865</td><td>48.1185</td></tr><tr><th>2</th><td>Richmond County</td><td>1.72469</td><td>3.58086</td><td>48.1642</td></tr><tr><th>3</th><td>Bronx County</td><td>1.63072</td><td>2.76906</td><td>58.8908</td></tr><tr><th>4</th><td>Queens County</td><td>1.48767</td><td>2.36226</td><td>62.9766</td></tr><tr><th>5</th><td>Kings County</td><td>1.09606</td><td>1.81542</td><td>60.3748</td></tr></tbody></table>"
      ],
      "text/latex": [
       "\\begin{tabular}{r|cccc}\n",
       "\t& Borough & Pos\\_Share & Tested\\_Share & Pct\\_Pos\\\\\n",
       "\t\\hline\n",
       "\t& String & Float64 & Float64 & Float64\\\\\n",
       "\t\\hline\n",
       "\t1 & New York County & 0.889541 & 1.84865 & 48.1185 \\\\\n",
       "\t2 & Richmond County & 1.72469 & 3.58086 & 48.1642 \\\\\n",
       "\t3 & Bronx County & 1.63072 & 2.76906 & 58.8908 \\\\\n",
       "\t4 & Queens County & 1.48767 & 2.36226 & 62.9766 \\\\\n",
       "\t5 & Kings County & 1.09606 & 1.81542 & 60.3748 \\\\\n",
       "\\end{tabular}\n"
      ],
      "text/plain": [
       "5×4 DataFrame\n",
       "│ Row │ Borough         │ Pos_Share │ Tested_Share │ Pct_Pos │\n",
       "│     │ \u001b[90mString\u001b[39m          │ \u001b[90mFloat64\u001b[39m   │ \u001b[90mFloat64\u001b[39m      │ \u001b[90mFloat64\u001b[39m │\n",
       "├─────┼─────────────────┼───────────┼──────────────┼─────────┤\n",
       "│ 1   │ New York County │ 0.889541  │ 1.84865      │ 48.1185 │\n",
       "│ 2   │ Richmond County │ 1.72469   │ 3.58086      │ 48.1642 │\n",
       "│ 3   │ Bronx County    │ 1.63072   │ 2.76906      │ 58.8908 │\n",
       "│ 4   │ Queens County   │ 1.48767   │ 2.36226      │ 62.9766 │\n",
       "│ 5   │ Kings County    │ 1.09606   │ 1.81542      │ 60.3748 │"
      ]
     },
     "execution_count": 17,
     "metadata": {},
     "output_type": "execute_result"
    }
   ],
   "source": [
    "@select(Fin, :Borough, :Pos_Share, :Tested_Share,:Pct_Pos)"
   ]
  },
  {
   "cell_type": "markdown",
   "metadata": {},
   "source": [
    "Interesting! SI has almost 2x as many tests per cap as Manhattan, but the same positive rate, which might hint that their criteria are the same and the difference in positive tests truly reflects prevalence across the most and least dense boroughs of NYC. Might have to do with the share of SI working in health care, police, EMS, etc, or it might have to do with the tiny household sizes in Manhattan limiting intrafamilial spread.\n"
   ]
  },
  {
   "cell_type": "markdown",
   "metadata": {},
   "source": [
    "It is much more difficult to use these numbers to say anything about the relative prevalence of the disease in SI vs the other boroughs, as the postive rates in the other 3 are all clustered close to each other and far from Manhattan and SI. It seems reasonable to say that disease prevalence is higher in SI than Manhattan, and that it is higher in the Bronx than Queens and higher in Queens than Brooklyn. Given that testing per cap is the same in Manhattan and Brookyln, but Manhattan has a far lower positive rate, it is also fair to say that prevalence is higher in Brooklyn than Manhattan but hard to say by how much without some sort of selection model of testing."
   ]
  },
  {
   "cell_type": "markdown",
   "metadata": {},
   "source": [
    "Without randomly testing people in the 5 boroughs, there is only so much we can say about the prevalence of the disease. Is the share of New Yorkers who had it/have ever had it closer to 10 or 40? Either number is within the bounds of possibility. 5k tests are sufficient to figure this out, as explained here:\n",
    "\n",
    "https://voxeu.org/article/how-widespread-coronavirus-new-york-we-need-know"
   ]
  },
  {
   "cell_type": "code",
   "execution_count": 18,
   "metadata": {},
   "outputs": [
    {
     "data": {
      "text/plain": [
       "\"Borough_Testing.csv\""
      ]
     },
     "execution_count": 18,
     "metadata": {},
     "output_type": "execute_result"
    }
   ],
   "source": [
    "CSV.write(\"Borough_Testing.csv\", Fin)"
   ]
  },
  {
   "cell_type": "code",
   "execution_count": null,
   "metadata": {},
   "outputs": [],
   "source": []
  }
 ],
 "metadata": {
  "kernelspec": {
   "display_name": "Julia 1.3.0",
   "language": "julia",
   "name": "julia-1.3"
  },
  "language_info": {
   "file_extension": ".jl",
   "mimetype": "application/julia",
   "name": "julia",
   "version": "1.3.0"
  }
 },
 "nbformat": 4,
 "nbformat_minor": 2
}
